{
 "cells": [
  {
   "cell_type": "markdown",
   "metadata": {},
   "source": [
    "<h2><font color=\"#004D7F\" size=6>Módulo 1. Introducción</font></h2>\n",
    "\n",
    "\n",
    "\n",
    "<h1><font color=\"#004D7F\" size=5>3. Curso rápido de Python</font></h1>\n",
    "\n",
    "<br><br>\n",
    "<div style=\"text-align: right\">\n",
    "<font color=\"#004D7F\" size=3>Josué Terrazas Mendoza</font><br>\n",
    "<font color=\"#004D7F\" size=3>Machine Learning con Python</font><br>"
   ]
  },
  {
   "cell_type": "markdown",
   "metadata": {},
   "source": [
    "---\n",
    "\n",
    "<h2><font color=\"#004D7F\" size=5>Índice</font></h2>\n",
    "<a id=\"indice\"></a>\n",
    "\n",
    "* [1. Introducción](#section1)\n",
    "* [2. Sintaxis en Python](#section2)\n",
    "    * [2.1. Asignación](#section21)\n",
    "    * [2.2. Control de flujo](#section22)\n",
    "    * [2.3. Estructuras de datos](#section23)\n",
    "* [3. Curso de Numpy](#section3)\n",
    "* [4. Curso de Matplotlib](#section4)\n",
    "* [5. Curso de Pandas](#section5)"
   ]
  },
  {
   "cell_type": "code",
   "execution_count": 1,
   "metadata": {},
   "outputs": [
    {
     "data": {
      "text/html": [
       "<style>.container{ width:98% }</style>"
      ],
      "text/plain": [
       "<IPython.core.display.HTML object>"
      ]
     },
     "metadata": {},
     "output_type": "display_data"
    }
   ],
   "source": [
    "# Permite ajustar la anchura de la parte útil de la libreta (reduce los márgenes)\n",
    "from IPython.display import display, HTML\n",
    "display(HTML(\"<style>.container{ width:98% }</style>\"))"
   ]
  },
  {
   "cell_type": "markdown",
   "metadata": {},
   "source": [
    "---\n",
    "\n",
    "<a id=\"section1\"></a>\n",
    "# <font color=\"#004D7F\"> 1. Introducción</font>"
   ]
  },
  {
   "cell_type": "markdown",
   "metadata": {},
   "source": [
    "No necesita ser un desarrollador de Python para comenzar a usar el ecosistema de Python para el aprendizaje automático. Como desarrollador que ya sabe cómo programar en uno o más lenguajes de programación, puede aprender un nuevo lenguaje como Python muy rápidamente. Solo necesita conocer algunas propiedades del idioma para transferir lo que ya sabe al nuevo lenguage."
   ]
  },
  {
   "cell_type": "markdown",
   "metadata": {},
   "source": [
    "<div style=\"text-align: right\"> <font size=5>\n",
    "    <a href=\"#indice\"><i class=\"fa fa-arrow-circle-up\" aria-hidden=\"true\" style=\"color:#004D7F\"></i></a>\n",
    "</font></div>\n",
    "\n",
    "---"
   ]
  },
  {
   "cell_type": "markdown",
   "metadata": {},
   "source": [
    "<a id=\"section2\"></a>\n",
    "# <font color=\"#004D7F\"> 2. Sintaxis en Python</font>"
   ]
  },
  {
   "cell_type": "markdown",
   "metadata": {},
   "source": [
    "Al comenzar en Python, necesita conocer algunos detalles clave sobre la sintaxis del lenguaje para poder leer y comprender el código de Python."
   ]
  },
  {
   "cell_type": "markdown",
   "metadata": {},
   "source": [
    "<a id=\"section21\"></a>\n",
    "## <font color=\"#004D7F\"> 2.1. Asignación</font>"
   ]
  },
  {
   "cell_type": "markdown",
   "metadata": {},
   "source": [
    "Como programador, la asignación y los tipos no deberían sorprenderte."
   ]
  },
  {
   "cell_type": "markdown",
   "metadata": {},
   "source": [
    "### Strings"
   ]
  },
  {
   "cell_type": "code",
   "execution_count": 2,
   "metadata": {},
   "outputs": [
    {
     "name": "stdout",
     "output_type": "stream",
     "text": [
      "Object `?` not found.\n"
     ]
    }
   ],
   "source": [
    "# Guardar en una variables un string e imprimir el caracter en la posición 0, longitud y el string completo\n",
    "???"
   ]
  },
  {
   "cell_type": "markdown",
   "metadata": {},
   "source": [
    "### Números"
   ]
  },
  {
   "cell_type": "code",
   "execution_count": 3,
   "metadata": {},
   "outputs": [
    {
     "name": "stdout",
     "output_type": "stream",
     "text": [
      "Object `?` not found.\n"
     ]
    }
   ],
   "source": [
    "# Guardar un número, imprimirlo, cambiarle el valor e imprimirlo nuevamente\n",
    "???"
   ]
  },
  {
   "cell_type": "markdown",
   "metadata": {},
   "source": [
    "### Booleanos"
   ]
  },
  {
   "cell_type": "code",
   "execution_count": 4,
   "metadata": {},
   "outputs": [
    {
     "name": "stdout",
     "output_type": "stream",
     "text": [
      "Object `?` not found.\n"
     ]
    }
   ],
   "source": [
    "# Guardar los dos valores booleanos en dos variables diferentes e imprimirlos\n",
    "???"
   ]
  },
  {
   "cell_type": "markdown",
   "metadata": {},
   "source": [
    "### Asignación Múltiple"
   ]
  },
  {
   "cell_type": "code",
   "execution_count": 5,
   "metadata": {},
   "outputs": [
    {
     "name": "stdout",
     "output_type": "stream",
     "text": [
      "Object `?` not found.\n"
     ]
    }
   ],
   "source": [
    "# Asignar 3 números a 3 variables e imprimir\n",
    "???"
   ]
  },
  {
   "cell_type": "markdown",
   "metadata": {},
   "source": [
    "### Valor None"
   ]
  },
  {
   "cell_type": "code",
   "execution_count": 6,
   "metadata": {
    "scrolled": true
   },
   "outputs": [
    {
     "name": "stdout",
     "output_type": "stream",
     "text": [
      "Object `?` not found.\n"
     ]
    }
   ],
   "source": [
    "# Guardar un valor None e imprimirlo\n",
    "???"
   ]
  },
  {
   "cell_type": "markdown",
   "metadata": {},
   "source": [
    "<a id=\"section22\"></a>\n",
    "## <font color=\"#004D7F\"> 2.2. Control de flujo</font>"
   ]
  },
  {
   "cell_type": "markdown",
   "metadata": {},
   "source": [
    "Hay tres tipos principales de control de flujo que debe aprender: condiciones _If-Then-Else,_ _For-Loops_ y _While-Loops_"
   ]
  },
  {
   "cell_type": "markdown",
   "metadata": {},
   "source": [
    "### Condicional _If-Then-Else_\n",
    "\n",
    "Observe los dos puntos (:) al final de la condición y la intención de la pestaña significativa para el bloque de código bajo la condición."
   ]
  },
  {
   "cell_type": "code",
   "execution_count": 7,
   "metadata": {},
   "outputs": [
    {
     "name": "stdout",
     "output_type": "stream",
     "text": [
      "Object `?` not found.\n"
     ]
    }
   ],
   "source": [
    "# Guardar un valor y verificar si es 99, mayor que 200 y ninguno de los dos\n",
    "???"
   ]
  },
  {
   "cell_type": "markdown",
   "metadata": {},
   "source": [
    "### _For-Loops_\n",
    "\n",
    "`for` hace un blucle que se repite hasta cumplir la condición"
   ]
  },
  {
   "cell_type": "code",
   "execution_count": 8,
   "metadata": {},
   "outputs": [
    {
     "name": "stdout",
     "output_type": "stream",
     "text": [
      "Object `?` not found.\n"
     ]
    }
   ],
   "source": [
    "# Imprimir valores del 1 al 10 e imprimirlos con for\n",
    "???"
   ]
  },
  {
   "cell_type": "markdown",
   "metadata": {},
   "source": [
    "### _While-Loops_\n",
    "\n",
    "`while` hace un blucle que se repite hasta cumplir la condición"
   ]
  },
  {
   "cell_type": "code",
   "execution_count": 9,
   "metadata": {},
   "outputs": [
    {
     "name": "stdout",
     "output_type": "stream",
     "text": [
      "Object `?` not found.\n"
     ]
    }
   ],
   "source": [
    "# Imprimir valores del 1 al 10 e imprimirlos con while\n",
    "???"
   ]
  },
  {
   "cell_type": "markdown",
   "metadata": {},
   "source": [
    "<a id=\"section23\"></a>\n",
    "## <font color=\"#004D7F\"> 2.3. Estructuras de datos</font>"
   ]
  },
  {
   "cell_type": "markdown",
   "metadata": {},
   "source": [
    "Hay tres estructuras de datos en Python que encontrará más utilizadas y útiles. Son tuplas, listas y diccionarios."
   ]
  },
  {
   "cell_type": "markdown",
   "metadata": {},
   "source": [
    "### Tuplas"
   ]
  },
  {
   "cell_type": "markdown",
   "metadata": {},
   "source": [
    "Las tuplas son colecciones de artículos de solo lectura."
   ]
  },
  {
   "cell_type": "code",
   "execution_count": 10,
   "metadata": {},
   "outputs": [
    {
     "name": "stdout",
     "output_type": "stream",
     "text": [
      "Object `?` not found.\n"
     ]
    }
   ],
   "source": [
    "# Guardar en una tupla 3 valores e imprimir\n",
    "???"
   ]
  },
  {
   "cell_type": "markdown",
   "metadata": {},
   "source": [
    "### Listas"
   ]
  },
  {
   "cell_type": "markdown",
   "metadata": {},
   "source": [
    "Las listas usan la notación de corchetes y pueden indexarse usando la notación de matriz. Tenga en cuenta que estamos utilizando algunas funciones simples similares a printf para combinar cadenas y variables al imprimir."
   ]
  },
  {
   "cell_type": "code",
   "execution_count": 11,
   "metadata": {},
   "outputs": [
    {
     "name": "stdout",
     "output_type": "stream",
     "text": [
      "Object `?` not found.\n"
     ]
    }
   ],
   "source": [
    "# Hacer una lista con tres valores, imprimir el primero, añadir un cuarto e imprimir la longitudo y los elementos\n",
    "???"
   ]
  },
  {
   "cell_type": "markdown",
   "metadata": {},
   "source": [
    "### Diccionarios"
   ]
  },
  {
   "cell_type": "markdown",
   "metadata": {},
   "source": [
    "Los diccionarios son asignaciones de nombres a valores, como pares clave-valor. Tenga en cuenta el uso del corchete y las anotaciones de dos puntos al definir el diccionario."
   ]
  },
  {
   "cell_type": "code",
   "execution_count": 12,
   "metadata": {},
   "outputs": [
    {
     "name": "stdout",
     "output_type": "stream",
     "text": [
      "Object `?` not found.\n"
     ]
    }
   ],
   "source": [
    "# Crear un diccionario con 3 valores e imprimir el primero y cambiarle el valor\n",
    "# Mostrar las claves y valores del diccionario y, finalmente, imprimir todos los valores con un bucle\n",
    "???"
   ]
  },
  {
   "cell_type": "markdown",
   "metadata": {},
   "source": [
    "### Funciones"
   ]
  },
  {
   "cell_type": "markdown",
   "metadata": {},
   "source": [
    "El mayor problema con Python es el espacio en blanco. Asegúrese de tener una nueva línea vacía después del código sangrado. El siguiente ejemplo define una nueva función para calcular la suma de dos valores y llama a la función con dos argumentos."
   ]
  },
  {
   "cell_type": "code",
   "execution_count": 13,
   "metadata": {},
   "outputs": [
    {
     "name": "stdout",
     "output_type": "stream",
     "text": [
      "Object `?` not found.\n"
     ]
    }
   ],
   "source": [
    "# Realizar una fución que sume dos valores\n",
    "???"
   ]
  },
  {
   "cell_type": "markdown",
   "metadata": {},
   "source": [
    "<div class=\"alert alert-block alert-info\">\n",
    "    \n",
    "<i class=\"fa fa-info-circle\" aria-hidden=\"true\"></i>\n",
    "Para más información sobre el lenguaje de programación Python:\n",
    "* [Google Python Class](https://developers.google.com/edu/python/)\n",
    "* [Python HOWTOs invaluable for learning idioms and such (Python 3.6)](https://docs.python.org/3.6/howto/index.html).\n",
    "* [Python Standard Library Reference](https://docs.python.org/3.6/library/index.html).\n",
    "</div>\n",
    "\n"
   ]
  },
  {
   "cell_type": "markdown",
   "metadata": {},
   "source": [
    "<div style=\"text-align: right\"> <font size=5>\n",
    "    <a href=\"#indice\"><i class=\"fa fa-arrow-circle-up\" aria-hidden=\"true\" style=\"color:#004D7F\"></i></a>\n",
    "</font></div>\n",
    "\n",
    "---"
   ]
  },
  {
   "cell_type": "markdown",
   "metadata": {},
   "source": [
    "<a id=\"section3\"></a>\n",
    "# <font color=\"#004D7F\"> 3. Curso de Numpy</font>"
   ]
  },
  {
   "cell_type": "markdown",
   "metadata": {},
   "source": [
    "NumPy proporciona las estructuras y operaciones de datos básicos para SciPy. Estas son matrices (ndarrays) que son eficientes para definir y manipular."
   ]
  },
  {
   "cell_type": "markdown",
   "metadata": {},
   "source": [
    "### Crear Array\n",
    "\n",
    "Observe cómo convertimos fácilmente una lista de Python en una matriz NumPy."
   ]
  },
  {
   "cell_type": "code",
   "execution_count": 14,
   "metadata": {},
   "outputs": [
    {
     "name": "stdout",
     "output_type": "stream",
     "text": [
      "Object `?` not found.\n"
     ]
    }
   ],
   "source": [
    "# Crear un array e imprimir sus valores y tamaño\n",
    "???"
   ]
  },
  {
   "cell_type": "markdown",
   "metadata": {},
   "source": [
    "### Acceso a datos\n",
    "\n",
    "La notación de matriz y los rangos se pueden usar para acceder de manera eficiente a los datos en una matriz NumPy."
   ]
  },
  {
   "cell_type": "code",
   "execution_count": 15,
   "metadata": {},
   "outputs": [
    {
     "name": "stdout",
     "output_type": "stream",
     "text": [
      "Object `?` not found.\n"
     ]
    }
   ],
   "source": [
    "# Hacer una mariz 2x3 e imprimir la primera y última lista\n",
    "# Luego imprimir un elemento concreto y los valores de la columna 3\n",
    "???"
   ]
  },
  {
   "cell_type": "markdown",
   "metadata": {},
   "source": [
    "### Operadores aritméticos\n",
    "\n",
    "Las matrices NumPy se pueden usar directamente en aritmética"
   ]
  },
  {
   "cell_type": "code",
   "execution_count": 16,
   "metadata": {},
   "outputs": [
    {
     "name": "stdout",
     "output_type": "stream",
     "text": [
      "Object `?` not found.\n"
     ]
    }
   ],
   "source": [
    "# crear dos vectores y sumarlos y multiplicarlos\n",
    "???"
   ]
  },
  {
   "cell_type": "markdown",
   "metadata": {},
   "source": [
    "Hay mucho más en las matrices NumPy, pero estos ejemplos le dan una idea de las eficiencias que proporcionan al trabajar con muchos datos numéricos. Consulte el Capítulo 24 para obtener recursos para obtener más información sobre la API de NumPy."
   ]
  },
  {
   "cell_type": "markdown",
   "metadata": {},
   "source": [
    "<div class=\"alert alert-block alert-info\">\n",
    "    \n",
    "<i class=\"fa fa-info-circle\" aria-hidden=\"true\"></i>\n",
    "Para más información de esta librería:\n",
    "* Documentación de [NumPy](https://docs.scipy.org/doc/numpy/user/)\n",
    "* Documentación de [SciPy](http://scipy-lectures.org/)\n",
    "</div>\n",
    "\n"
   ]
  },
  {
   "cell_type": "markdown",
   "metadata": {},
   "source": [
    "<div style=\"text-align: right\"> <font size=5>\n",
    "    <a href=\"#indice\"><i class=\"fa fa-arrow-circle-up\" aria-hidden=\"true\" style=\"color:#004D7F\"></i></a>\n",
    "</font></div>\n",
    "\n",
    "---"
   ]
  },
  {
   "cell_type": "markdown",
   "metadata": {},
   "source": [
    "<a id=\"section4\"></a>\n",
    "# <font color=\"#004D7F\"> 4. Curso de Matplotlib</font>"
   ]
  },
  {
   "cell_type": "markdown",
   "metadata": {},
   "source": [
    "Matplotlib se puede usar para crear diagramas y gráficos. La biblioteca se usa generalmente de la siguiente manera:\n",
    "* Llame a una función de gráfica con algunos datos (por ejemplo `.plot()`).\n",
    "* Llama a muchas funciones para configurar las propiedades de los gráficos (por ejemplo, etiquetas y colores).\n",
    "* Haga visible la trama (por ejemplo, `.show()`).\n"
   ]
  },
  {
   "cell_type": "markdown",
   "metadata": {},
   "source": [
    "### Gráficos lineales"
   ]
  },
  {
   "cell_type": "markdown",
   "metadata": {},
   "source": [
    "El siguiente ejemplo crea un diagrama lineal simple a partir de datos unidimensionales."
   ]
  },
  {
   "cell_type": "code",
   "execution_count": 17,
   "metadata": {},
   "outputs": [
    {
     "name": "stdout",
     "output_type": "stream",
     "text": [
      "Object `?` not found.\n"
     ]
    }
   ],
   "source": [
    "# Crear un vector y representar un gráfico linea con sus valores\n",
    "???"
   ]
  },
  {
   "cell_type": "markdown",
   "metadata": {},
   "source": [
    "### Gráficos de dispersión"
   ]
  },
  {
   "cell_type": "markdown",
   "metadata": {},
   "source": [
    "A continuación se muestra un ejemplo simple de crear un diagrama de dispersión a partir de datos bidimensionales."
   ]
  },
  {
   "cell_type": "code",
   "execution_count": 18,
   "metadata": {
    "scrolled": true
   },
   "outputs": [
    {
     "name": "stdout",
     "output_type": "stream",
     "text": [
      "Object `?` not found.\n"
     ]
    }
   ],
   "source": [
    "# Hcer dos vectores y representar los puntos en un gráfico de dispersión\n",
    "???"
   ]
  },
  {
   "cell_type": "markdown",
   "metadata": {},
   "source": [
    "Hay muchos más tipos de gráficos y muchas más propiedades que se pueden establecer en un gráfico para configurarlo. Seguro hasta el punto de que puede copiar y pegar una receta para trazar datos en un abrir y cerrar de ojos. Es una habilidad invaluable. Creo que será mejor que veas muchos ejemplos de Matplotlib para diferentes tipos de trama y prepares recetas para usar después. Hacer lindas tramas es un tema completamente diferente y para eso recomendaría estudiar la API cuidadosamente. Veo las gráficas como herramientas desechables para aprender más sobre un problema."
   ]
  },
  {
   "cell_type": "markdown",
   "metadata": {},
   "source": [
    "<div class=\"alert alert-block alert-info\">\n",
    "    \n",
    "<i class=\"fa fa-info-circle\" aria-hidden=\"true\"></i>\n",
    "Para más información de esta librería:\n",
    "* Galería Matplotlib con [código simple y legible](https://matplotlib.org/gallery.html).\n",
    "* Guía de inicio de [Matplotlib](https://matplotlib.org/users/beginner.html).\n",
    "* Referencia Matplotlib [API](https://matplotlib.org/api/index.html).\n",
    "</div>\n",
    "\n"
   ]
  },
  {
   "cell_type": "markdown",
   "metadata": {},
   "source": [
    "<div style=\"text-align: right\"> <font size=5>\n",
    "    <a href=\"#indice\"><i class=\"fa fa-arrow-circle-up\" aria-hidden=\"true\" style=\"color:#004D7F\"></i></a>\n",
    "</font></div>\n",
    "\n",
    "---"
   ]
  },
  {
   "cell_type": "markdown",
   "metadata": {},
   "source": [
    "<a id=\"section5\"></a>\n",
    "# <font color=\"#004D7F\"> 5. Curso de Pandas</font>"
   ]
  },
  {
   "cell_type": "markdown",
   "metadata": {},
   "source": [
    "Pandas proporciona estructuras de datos y funcionalidad para manipular y analizar datos rápidamente. La clave para comprender Pandas para el aprendizaje automático es comprender sus estructuras de datos básicas: Series y DataFrame."
   ]
  },
  {
   "cell_type": "markdown",
   "metadata": {},
   "source": [
    "### Series\n",
    "\n",
    "Una serie es una array unidimensional donde se pueden etiquetar las filas y columnas. "
   ]
  },
  {
   "cell_type": "code",
   "execution_count": 19,
   "metadata": {},
   "outputs": [
    {
     "name": "stdout",
     "output_type": "stream",
     "text": [
      "Object `?` not found.\n"
     ]
    }
   ],
   "source": [
    "# Realizar una Serie Pandas e imprimirla\n",
    "???"
   ]
  },
  {
   "cell_type": "markdown",
   "metadata": {},
   "source": [
    "Puede acceder a los datos en una serie como una array NumPy y como un diccionario"
   ]
  },
  {
   "cell_type": "code",
   "execution_count": 20,
   "metadata": {},
   "outputs": [
    {
     "name": "stdout",
     "output_type": "stream",
     "text": [
      "Object `?` not found.\n"
     ]
    }
   ],
   "source": [
    "#Imprimir por posicíon y por índice\n",
    "???"
   ]
  },
  {
   "cell_type": "markdown",
   "metadata": {},
   "source": [
    "### Dataframe\n",
    "\n",
    "Un Dataframe es un array multidimensional donde se pueden etiquetar las filas y las columnas"
   ]
  },
  {
   "cell_type": "code",
   "execution_count": 21,
   "metadata": {},
   "outputs": [
    {
     "name": "stdout",
     "output_type": "stream",
     "text": [
      "Object `?` not found.\n"
     ]
    }
   ],
   "source": [
    "#Crear un Dataframe e imprimirlo\n",
    "???"
   ]
  },
  {
   "cell_type": "markdown",
   "metadata": {},
   "source": [
    "Los datos pueden indexarse usando nombres de columna"
   ]
  },
  {
   "cell_type": "code",
   "execution_count": 22,
   "metadata": {
    "scrolled": true
   },
   "outputs": [
    {
     "name": "stdout",
     "output_type": "stream",
     "text": [
      "Object `?` not found.\n"
     ]
    }
   ],
   "source": [
    "# Imprimir por el índice\n",
    "???"
   ]
  },
  {
   "cell_type": "markdown",
   "metadata": {},
   "source": [
    "Hay mucha documentación para $\\texttt{Pandas}$ porque es una herramienta muy flexible. En general, los ejemplos de libros de cocina serán más útiles para usted aquí, ya que le darán ideas sobre diferentes formas de cortar y cortar sus datos."
   ]
  },
  {
   "cell_type": "markdown",
   "metadata": {},
   "source": [
    "<div class=\"alert alert-block alert-info\">\n",
    "    \n",
    "<i class=\"fa fa-info-circle\" aria-hidden=\"true\"></i>\n",
    "Para más información de esta librería:\n",
    "* Guía de usuario de documentación de [Pandas](https://pandas.pydata.org/pandas-docs/stable/).\n",
    "* Guía de rápida de [Pandas](https://pandas.pydata.org/pandas-docs/stable/user_guide/cookbook.html).\n",
    "* Referencia Pandas [API](https://pandas.pydata.org/pandas-docs/stable/reference/index.html).\n",
    "</div>\n",
    "\n"
   ]
  },
  {
   "cell_type": "markdown",
   "metadata": {},
   "source": [
    "<div style=\"text-align: right\"> <font size=5>\n",
    "    <a href=\"#indice\"><i class=\"fa fa-arrow-circle-up\" aria-hidden=\"true\" style=\"color:#004D7F\"></i></a>\n",
    "</font></div>\n",
    "\n",
    "---\n",
    "\n",
    "<div style=\"text-align: right\"> <font size=6><i class=\"fa fa-coffee\" aria-hidden=\"true\" style=\"color:#004D7F\"></i> </font></div>"
   ]
  }
 ],
 "metadata": {
  "kernelspec": {
   "display_name": "Python 3 (ipykernel)",
   "language": "python",
   "name": "python3"
  },
  "language_info": {
   "codemirror_mode": {
    "name": "ipython",
    "version": 3
   },
   "file_extension": ".py",
   "mimetype": "text/x-python",
   "name": "python",
   "nbconvert_exporter": "python",
   "pygments_lexer": "ipython3",
   "version": "3.11.10"
  }
 },
 "nbformat": 4,
 "nbformat_minor": 4
}
