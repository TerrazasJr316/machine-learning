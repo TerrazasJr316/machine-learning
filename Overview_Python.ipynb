{
 "cells": [
  {
   "cell_type": "markdown",
   "id": "8927006e-5a63-42e6-a66b-1cea7f6639f1",
   "metadata": {},
   "source": [
    "# Introducción a Python\n",
    "\n",
    "## Asignaciones"
   ]
  },
  {
   "cell_type": "code",
   "execution_count": 1,
   "id": "40f7b028-7221-4cba-8745-5771b49feb42",
   "metadata": {},
   "outputs": [
    {
     "name": "stdout",
     "output_type": "stream",
     "text": [
      "e\n",
      "8\n",
      "elefante\n"
     ]
    }
   ],
   "source": [
    "# Guardar en una variables un string e imprimir el caracter en la posición 0, longitud y el string completo\n",
    "\n",
    "animal = 'elefante'\n",
    "\n",
    "print(animal[0])\n",
    "print(len(animal))\n",
    "print(animal)"
   ]
  }
 ],
 "metadata": {
  "kernelspec": {
   "display_name": "Python 3 (ipykernel)",
   "language": "python",
   "name": "python3"
  },
  "language_info": {
   "codemirror_mode": {
    "name": "ipython",
    "version": 3
   },
   "file_extension": ".py",
   "mimetype": "text/x-python",
   "name": "python",
   "nbconvert_exporter": "python",
   "pygments_lexer": "ipython3",
   "version": "3.11.13"
  }
 },
 "nbformat": 4,
 "nbformat_minor": 5
}
